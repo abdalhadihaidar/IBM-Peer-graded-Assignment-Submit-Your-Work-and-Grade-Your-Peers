{
 "cells": [
  {
   "cell_type": "markdown",
   "id": "ea5b17f5-57cb-4ed8-b03b-1c9981ffd60d",
   "metadata": {},
   "source": [
    "# Data Science Tools and Ecosystem"
   ]
  },
  {
   "cell_type": "markdown",
   "id": "73c435fc-a84a-46b4-a7c8-693a81df4fd4",
   "metadata": {},
   "source": [
    "## In this notebook, Data Science Tools and Ecosystem are summarized."
   ]
  },
  {
   "cell_type": "markdown",
   "id": "27dd4ba3-1660-48f2-b8e7-9b49a1443909",
   "metadata": {},
   "source": [
    "Some of the popular languages that data scientists use are:  \r\n",
    "    1. Python  \r\n",
    "    2. R  \r\n",
    "    3. javascript  "
   ]
  },
  {
   "cell_type": "markdown",
   "id": "724d3b5a-d8e2-4a6f-9dca-dfe0ef1e769d",
   "metadata": {},
   "source": [
    "Some of the commonly used libraries used by Data Scientists include:\n",
    "    1. pandas  \n",
    "    2. keras  \n",
    "    3. tensorflow  "
   ]
  },
  {
   "cell_type": "markdown",
   "id": "b32f61db-4e7b-48f7-ab80-7b5cf5da1901",
   "metadata": {},
   "source": [
    "| Data Science Tools |\r\n",
    "| -------------|\r\n",
    "| MongoDB |\r\n",
    "| Apache SparkSQL |\r\n",
    "| TensorFlow |"
   ]
  },
  {
   "cell_type": "markdown",
   "id": "99f32989-65ee-4038-863c-29605f0f4b1d",
   "metadata": {},
   "source": [
    "### Below are a few examples of evaluating arithmetic expressions in Python"
   ]
  },
  {
   "cell_type": "code",
   "execution_count": 1,
   "id": "12a87949-17bd-444a-b3d7-df5ce184cad6",
   "metadata": {},
   "outputs": [
    {
     "data": {
      "text/plain": [
       "17"
      ]
     },
     "execution_count": 1,
     "metadata": {},
     "output_type": "execute_result"
    }
   ],
   "source": [
    "## This a simple arithmetic expression to mutiply then add integers\n",
    "(3*4)+5"
   ]
  },
  {
   "cell_type": "code",
   "execution_count": 2,
   "id": "ef6462a1-215d-4310-bbc1-f1ca24a18825",
   "metadata": {},
   "outputs": [
    {
     "data": {
      "text/plain": [
       "3.3333333333333335"
      ]
     },
     "execution_count": 2,
     "metadata": {},
     "output_type": "execute_result"
    }
   ],
   "source": [
    "## This will convert 200 minutes to hours by diving by 60\n",
    "200/60"
   ]
  },
  {
   "cell_type": "markdown",
   "id": "ff1f4bae-7ab2-4aa1-804d-136cc77fc4e6",
   "metadata": {},
   "source": [
    "**Objectives:**\n",
    "- Python\n",
    "- R\n",
    "- SQL"
   ]
  },
  {
   "cell_type": "markdown",
   "id": "c8151541-0fa4-416d-aea8-052ebf255588",
   "metadata": {},
   "source": [
    "## Author\n",
    "Abdalhadi Haidar"
   ]
  },
  {
   "cell_type": "code",
   "execution_count": null,
   "id": "07e380bf-b10f-432a-8ba6-e522f6bf9739",
   "metadata": {},
   "outputs": [],
   "source": []
  }
 ],
 "metadata": {
  "kernelspec": {
   "display_name": "Python 3 (ipykernel)",
   "language": "python",
   "name": "python3"
  },
  "language_info": {
   "codemirror_mode": {
    "name": "ipython",
    "version": 3
   },
   "file_extension": ".py",
   "mimetype": "text/x-python",
   "name": "python",
   "nbconvert_exporter": "python",
   "pygments_lexer": "ipython3",
   "version": "3.8.19"
  }
 },
 "nbformat": 4,
 "nbformat_minor": 5
}
